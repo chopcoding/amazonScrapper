{
 "metadata": {
  "language_info": {
   "codemirror_mode": {
    "name": "ipython",
    "version": 3
   },
   "file_extension": ".py",
   "mimetype": "text/x-python",
   "name": "python",
   "nbconvert_exporter": "python",
   "pygments_lexer": "ipython3",
   "version": "3.8.3-final"
  },
  "orig_nbformat": 2,
  "kernelspec": {
   "name": "python3",
   "display_name": "Python 3",
   "language": "python"
  }
 },
 "nbformat": 4,
 "nbformat_minor": 2,
 "cells": [
  {
   "cell_type": "code",
   "execution_count": 4,
   "metadata": {},
   "outputs": [],
   "source": [
    "import pandas as pd\n",
    "df = pd.read_csv('amazon_data.csv')"
   ]
  },
  {
   "cell_type": "code",
   "execution_count": 6,
   "metadata": {},
   "outputs": [
    {
     "output_type": "execute_result",
     "data": {
      "text/plain": [
       "                                      product_author  \\\n",
       "0  Barack Obama,\\n\\n\\n\\nHolly Whitaker\\n\\n\\n,\\n\\n...   \n",
       "1                                     product_author   \n",
       "2  Barack Obama,\\n\\n\\n\\nHolly Whitaker\\n\\n\\n,\\n\\n...   \n",
       "\n",
       "                                    product_img_link  \\\n",
       "0  https://m.media-amazon.com/images/I/81NI6sqvvk...   \n",
       "1                                   product_img_link   \n",
       "2  https://m.media-amazon.com/images/I/81NI6sqvvk...   \n",
       "\n",
       "                                        product_name  \\\n",
       "0  \\n\\n\\n\\n,\\n\\n\\n\\n\\n,\\n\\n\\n\\n,\\n\\n\\n\\n\\n,\\n\\n\\n...   \n",
       "1                                       product_name   \n",
       "2  \\n\\n\\n\\n,\\n\\n\\n\\n\\n,\\n\\n\\n\\n,\\n\\n\\n\\n\\n,\\n\\n\\n...   \n",
       "\n",
       "                                       product_price  \\\n",
       "0  0,.,00,12,.,66,18,.,57,20,.,49,20,.,99,17,.,39...   \n",
       "1                                      product_price   \n",
       "2  0,.,00,12,.,66,18,.,57,20,.,49,20,.,99,17,.,39...   \n",
       "\n",
       "                                     product_ratings  \\\n",
       "0  65,101,1,514,37,12,641,116,295,16,1,128,1,150,...   \n",
       "1                                    product_ratings   \n",
       "2  65,101,1,514,37,12,641,116,295,16,1,128,1,150,...   \n",
       "\n",
       "                                       product_stars  \n",
       "0  4.9 out of 5 stars,4.4 out of 5 stars,4.9 out ...  \n",
       "1                                      product_stars  \n",
       "2  4.9 out of 5 stars,4.4 out of 5 stars,4.9 out ...  "
      ],
      "text/html": "<div>\n<style scoped>\n    .dataframe tbody tr th:only-of-type {\n        vertical-align: middle;\n    }\n\n    .dataframe tbody tr th {\n        vertical-align: top;\n    }\n\n    .dataframe thead th {\n        text-align: right;\n    }\n</style>\n<table border=\"1\" class=\"dataframe\">\n  <thead>\n    <tr style=\"text-align: right;\">\n      <th></th>\n      <th>product_author</th>\n      <th>product_img_link</th>\n      <th>product_name</th>\n      <th>product_price</th>\n      <th>product_ratings</th>\n      <th>product_stars</th>\n    </tr>\n  </thead>\n  <tbody>\n    <tr>\n      <th>0</th>\n      <td>Barack Obama,\\n\\n\\n\\nHolly Whitaker\\n\\n\\n,\\n\\n...</td>\n      <td>https://m.media-amazon.com/images/I/81NI6sqvvk...</td>\n      <td>\\n\\n\\n\\n,\\n\\n\\n\\n\\n,\\n\\n\\n\\n,\\n\\n\\n\\n\\n,\\n\\n\\n...</td>\n      <td>0,.,00,12,.,66,18,.,57,20,.,49,20,.,99,17,.,39...</td>\n      <td>65,101,1,514,37,12,641,116,295,16,1,128,1,150,...</td>\n      <td>4.9 out of 5 stars,4.4 out of 5 stars,4.9 out ...</td>\n    </tr>\n    <tr>\n      <th>1</th>\n      <td>product_author</td>\n      <td>product_img_link</td>\n      <td>product_name</td>\n      <td>product_price</td>\n      <td>product_ratings</td>\n      <td>product_stars</td>\n    </tr>\n    <tr>\n      <th>2</th>\n      <td>Barack Obama,\\n\\n\\n\\nHolly Whitaker\\n\\n\\n,\\n\\n...</td>\n      <td>https://m.media-amazon.com/images/I/81NI6sqvvk...</td>\n      <td>\\n\\n\\n\\n,\\n\\n\\n\\n\\n,\\n\\n\\n\\n,\\n\\n\\n\\n\\n,\\n\\n\\n...</td>\n      <td>0,.,00,12,.,66,18,.,57,20,.,49,20,.,99,17,.,39...</td>\n      <td>65,101,1,514,37,12,641,116,295,16,1,128,1,150,...</td>\n      <td>4.9 out of 5 stars,4.4 out of 5 stars,4.9 out ...</td>\n    </tr>\n  </tbody>\n</table>\n</div>"
     },
     "metadata": {},
     "execution_count": 6
    }
   ],
   "source": [
    "df"
   ]
  },
  {
   "cell_type": "code",
   "execution_count": null,
   "metadata": {},
   "outputs": [],
   "source": []
  }
 ]
}